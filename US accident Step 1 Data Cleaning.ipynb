{
 "cells": [
  {
   "cell_type": "code",
   "execution_count": 165,
   "id": "9a4375c6-1887-4b07-8798-b5a9c09d0f5a",
   "metadata": {},
   "outputs": [],
   "source": [
    "import pandas as pd\n",
    "import numpy as np\n",
    "from datetime import datetime as dt\n",
    "import random \n",
    "import seaborn as sns\n",
    "sns.set_style('darkgrid')\n",
    "import plotly.express as px\n",
    "import matplotlib.pyplot as plt"
   ]
  },
  {
   "cell_type": "code",
   "execution_count": 166,
   "id": "14c02630-47b9-4cc8-94c6-264f7b2b7fb0",
   "metadata": {},
   "outputs": [],
   "source": [
    "# sample_fraction = 0.2\n",
    "\n",
    "# def skip_row(row_idx):\n",
    "#     if row_idx == 0:\n",
    "#         return False\n",
    "#     return random.random() > sample_fraction\n",
    "    \n",
    "random.seed(42)    \n",
    "df = pd.read_csv('OneDrive/Desktop/US_Accidents_March23.csv')\n"
   ]
  },
  {
   "cell_type": "code",
   "execution_count": 167,
   "id": "268bb7c5-9d7c-43d5-aa67-2c8209c9804e",
   "metadata": {
    "scrolled": true
   },
   "outputs": [
    {
     "name": "stdout",
     "output_type": "stream",
     "text": [
      "<class 'pandas.core.frame.DataFrame'>\n",
      "RangeIndex: 7728394 entries, 0 to 7728393\n",
      "Data columns (total 46 columns):\n",
      " #   Column                 Non-Null Count    Dtype  \n",
      "---  ------                 --------------    -----  \n",
      " 0   ID                     7728394 non-null  object \n",
      " 1   Source                 7728394 non-null  object \n",
      " 2   Severity               7728394 non-null  int64  \n",
      " 3   Start_Time             7728394 non-null  object \n",
      " 4   End_Time               7728394 non-null  object \n",
      " 5   Start_Lat              7728394 non-null  float64\n",
      " 6   Start_Lng              7728394 non-null  float64\n",
      " 7   End_Lat                4325632 non-null  float64\n",
      " 8   End_Lng                4325632 non-null  float64\n",
      " 9   Distance(mi)           7728394 non-null  float64\n",
      " 10  Description            7728389 non-null  object \n",
      " 11  Street                 7717525 non-null  object \n",
      " 12  City                   7728141 non-null  object \n",
      " 13  County                 7728394 non-null  object \n",
      " 14  State                  7728394 non-null  object \n",
      " 15  Zipcode                7726479 non-null  object \n",
      " 16  Country                7728394 non-null  object \n",
      " 17  Timezone               7720586 non-null  object \n",
      " 18  Airport_Code           7705759 non-null  object \n",
      " 19  Weather_Timestamp      7608166 non-null  object \n",
      " 20  Temperature(F)         7564541 non-null  float64\n",
      " 21  Wind_Chill(F)          5729375 non-null  float64\n",
      " 22  Humidity(%)            7554250 non-null  float64\n",
      " 23  Pressure(in)           7587715 non-null  float64\n",
      " 24  Visibility(mi)         7551296 non-null  float64\n",
      " 25  Wind_Direction         7553188 non-null  object \n",
      " 26  Wind_Speed(mph)        7157161 non-null  float64\n",
      " 27  Precipitation(in)      5524808 non-null  float64\n",
      " 28  Weather_Condition      7554935 non-null  object \n",
      " 29  Amenity                7728394 non-null  bool   \n",
      " 30  Bump                   7728394 non-null  bool   \n",
      " 31  Crossing               7728394 non-null  bool   \n",
      " 32  Give_Way               7728394 non-null  bool   \n",
      " 33  Junction               7728394 non-null  bool   \n",
      " 34  No_Exit                7728394 non-null  bool   \n",
      " 35  Railway                7728394 non-null  bool   \n",
      " 36  Roundabout             7728394 non-null  bool   \n",
      " 37  Station                7728394 non-null  bool   \n",
      " 38  Stop                   7728394 non-null  bool   \n",
      " 39  Traffic_Calming        7728394 non-null  bool   \n",
      " 40  Traffic_Signal         7728394 non-null  bool   \n",
      " 41  Turning_Loop           7728394 non-null  bool   \n",
      " 42  Sunrise_Sunset         7705148 non-null  object \n",
      " 43  Civil_Twilight         7705148 non-null  object \n",
      " 44  Nautical_Twilight      7705148 non-null  object \n",
      " 45  Astronomical_Twilight  7705148 non-null  object \n",
      "dtypes: bool(13), float64(12), int64(1), object(20)\n",
      "memory usage: 2.0+ GB\n"
     ]
    }
   ],
   "source": [
    "df.info(show_counts=True)"
   ]
  },
  {
   "cell_type": "code",
   "execution_count": 168,
   "id": "e957aaaf-738e-4c9f-aba3-381b1476c455",
   "metadata": {
    "scrolled": true
   },
   "outputs": [
    {
     "data": {
      "text/plain": [
       "End_Lat                  44.029355\n",
       "End_Lng                  44.029355\n",
       "Description               0.000065\n",
       "Street                    0.140637\n",
       "City                      0.003274\n",
       "Zipcode                   0.024779\n",
       "Timezone                  0.101030\n",
       "Airport_Code              0.292881\n",
       "Weather_Timestamp         1.555666\n",
       "Temperature(F)            2.120143\n",
       "Wind_Chill(F)            25.865904\n",
       "Humidity(%)               2.253301\n",
       "Pressure(in)              1.820288\n",
       "Visibility(mi)            2.291524\n",
       "Wind_Direction            2.267043\n",
       "Wind_Speed(mph)           7.391355\n",
       "Precipitation(in)        28.512858\n",
       "Weather_Condition         2.244438\n",
       "Sunrise_Sunset            0.300787\n",
       "Civil_Twilight            0.300787\n",
       "Nautical_Twilight         0.300787\n",
       "Astronomical_Twilight     0.300787\n",
       "dtype: float64"
      ]
     },
     "execution_count": 168,
     "metadata": {},
     "output_type": "execute_result"
    }
   ],
   "source": [
    "missingvalues = df.isna().sum()\n",
    "missingvalues = missingvalues/ len(df) * 100\n",
    "missingvalues[missingvalues.sort_values(ascending = False) > 0]\n"
   ]
  },
  {
   "cell_type": "code",
   "execution_count": 169,
   "id": "8be9653e-f236-40eb-9143-8be05b19c5d3",
   "metadata": {},
   "outputs": [],
   "source": [
    "#dropping End_lat and End_Lng since it is missing around 50% of the time\n",
    "df = df.drop(columns = ['End_Lat', 'End_Lng'])"
   ]
  },
  {
   "cell_type": "code",
   "execution_count": 170,
   "id": "4137aea7-5094-4311-b3d3-a59e14f7bc68",
   "metadata": {},
   "outputs": [],
   "source": [
    "#for precipitation, wind_chill and wind_speed, i will input the null values with the mean of the values as\n",
    "#dropping the null rows will take out too much of the data\n",
    "\n",
    "df['Precipitation(in)'] = df['Precipitation(in)'].fillna(df['Precipitation(in)'].mean())\n",
    "df['Wind_Chill(F)']= df['Wind_Chill(F)'].fillna(df['Wind_Chill(F)'].mean())\n",
    "df['Wind_Speed(mph)']=df['Wind_Speed(mph)'].fillna(df['Wind_Speed(mph)'].mean())"
   ]
  },
  {
   "cell_type": "code",
   "execution_count": 171,
   "id": "bc89cb75-74d4-437c-a242-5dc919f5a4f2",
   "metadata": {},
   "outputs": [],
   "source": [
    "#for the rest of the values, since it is around 2% of the value, dropping the rows with the null value would be best to prevent\n",
    "#data from being more skewed\n",
    "\n",
    "df = df.dropna(subset = ['Street', 'City', 'Zipcode', 'Timezone', 'Airport_Code','Description',\n",
    "       'Weather_Timestamp', 'Temperature(F)', 'Humidity(%)', 'Pressure(in)',\n",
    "       'Visibility(mi)', 'Wind_Direction', 'Weather_Condition',\n",
    "       'Sunrise_Sunset', 'Civil_Twilight', 'Nautical_Twilight',\n",
    "       'Astronomical_Twilight'])"
   ]
  },
  {
   "cell_type": "code",
   "execution_count": 172,
   "id": "58cbf426-c70d-4153-af9a-a407b67f0c2c",
   "metadata": {},
   "outputs": [],
   "source": [
    "#transforming Dates to datetime\n",
    "df['Start_Time'] =pd.to_datetime(df['Start_Time'].str.split('.').str[0])\n",
    "df['End_Time'] =pd.to_datetime(df['End_Time'].str.split('.').str[0])"
   ]
  },
  {
   "cell_type": "code",
   "execution_count": 173,
   "id": "2464d176-27ce-4c85-a6dd-d9ef54c8e65d",
   "metadata": {},
   "outputs": [],
   "source": [
    "#rename columns\n",
    "df.rename(columns={\n",
    "    'Distance(mi)':'Distance',\n",
    "    'Temperature(F)':'Temperature',\n",
    "    'Wind_Chill(F)':'Wind_Chill',\n",
    "    'Humidity(%)':'Humidity',\n",
    "    'Pressure(in)':'Pressure',\n",
    "    'Visibility(mi)':'Visibility',\n",
    "    'Wind_Speed(mph)':'Wind_Speed',\n",
    "    'Precipitation(in)':'Precipitation',\n",
    "} , inplace = True)"
   ]
  },
  {
   "cell_type": "code",
   "execution_count": 174,
   "id": "292dacd7-30b3-467b-bde4-9d94117a2e27",
   "metadata": {},
   "outputs": [],
   "source": [
    "#transforming distance to km\n",
    "df.rename(columns={\n",
    "    'Distance(mi)':'Distance'\n",
    "}, inplace=True)\n",
    "\n",
    "df.Distance = df.Distance * 1.60934"
   ]
  },
  {
   "cell_type": "code",
   "execution_count": 175,
   "id": "f3674668-de62-4bc2-a7bc-d74d5a26dd0a",
   "metadata": {},
   "outputs": [],
   "source": [
    "#transforming temperature to celsius\n",
    "\n",
    "df.Temperature = (df.Temperature - 32) * 5 / 9"
   ]
  },
  {
   "cell_type": "code",
   "execution_count": 176,
   "id": "22923ef0-9d3a-48e9-b3d6-838ed27fedd6",
   "metadata": {},
   "outputs": [
    {
     "data": {
      "image/png": "[encoded data removed]",
      "text/plain": [
       "<Figure size 640x480 with 1 Axes>"
      ]
     },
     "metadata": {},
     "output_type": "display_data"
    }
   ],
   "source": [
    "#dropping accidents with more than 60 degree as the highest temperature ever recorded is only 53 degree celsius\n",
    "#while the extreme negative degree is well within expectation\n",
    "pd.set_option('display.max_columns', 200)\n",
    "df[df.Temperature > 50]\n",
    "sns.boxplot(df, x = 'Temperature')\n",
    "\n",
    "df = df[df['Temperature'] < 60]"
   ]
  },
  {
   "cell_type": "code",
   "execution_count": 177,
   "id": "7646bf35-efea-4761-88c7-349806d72142",
   "metadata": {},
   "outputs": [
    {
     "data": {
      "text/plain": [
       "<Axes: xlabel='Wind_Chill'>"
      ]
     },
     "execution_count": 177,
     "metadata": {},
     "output_type": "execute_result"
    },
    {
     "data": {
      "image/png": "[encoded data removed]",
      "text/plain": [
       "<Figure size 640x480 with 1 Axes>"
      ]
     },
     "metadata": {},
     "output_type": "display_data"
    }
   ],
   "source": [
    "#transforming wind_chill to celsius\n",
    "#also wind temperature looks within possibility\n",
    "\n",
    "df.Wind_Chill = (df.Wind_Chill - 32) * 5 / 9\n",
    "sns.boxplot(df, x='Wind_Chill')"
   ]
  },
  {
   "cell_type": "code",
   "execution_count": 178,
   "id": "bc20380a-caa4-4871-8116-54c77da50596",
   "metadata": {},
   "outputs": [
    {
     "data": {
      "text/plain": [
       "Wind_Direction\n",
       "CALM        942796\n",
       "Calm        362598\n",
       "E           274727\n",
       "ENE         254931\n",
       "ESE         264812\n",
       "East        102539\n",
       "N           302063\n",
       "NE          254648\n",
       "NNE         251635\n",
       "NNW         328353\n",
       "NW          364391\n",
       "North       137057\n",
       "S           413900\n",
       "SE          291134\n",
       "SSE         344111\n",
       "SSW         379701\n",
       "SW          359825\n",
       "South       175514\n",
       "VAR         247141\n",
       "Variable    112077\n",
       "W           378396\n",
       "WNW         373372\n",
       "WSW         348591\n",
       "West        162387\n",
       "Name: count, dtype: int64"
      ]
     },
     "execution_count": 178,
     "metadata": {},
     "output_type": "execute_result"
    }
   ],
   "source": [
    "df['Wind_Direction'].value_counts().sort_index()"
   ]
  },
  {
   "cell_type": "code",
   "execution_count": 179,
   "id": "459445a3-ab87-4d9d-a9c4-e26ab8f446c1",
   "metadata": {},
   "outputs": [],
   "source": [
    "#some of the values are the same ie. VAR and Variable, North and N, West and W, East and E, South and S, CALM and Calm\n",
    "WDmap = {'Calm':'CALM',\n",
    "         'East':'E',\n",
    "         'North':'N',\n",
    "         'South':'S',\n",
    "         'West':'W',\n",
    "         'Variable':'VAR',\n",
    "        }\n",
    "df['Wind_Direction'] = df['Wind_Direction'].replace(WDmap)"
   ]
  },
  {
   "cell_type": "code",
   "execution_count": 180,
   "id": "82bdab7a-9acf-408a-ae56-1c74aba7dbf4",
   "metadata": {},
   "outputs": [
    {
     "data": {
      "image/png": "[encoded data removed]",
      "text/plain": [
       "<Figure size 640x480 with 1 Axes>"
      ]
     },
     "metadata": {},
     "output_type": "display_data"
    }
   ],
   "source": [
    "# maximum windspeed in US that is recorded is 231mph, so deleting all wind_speed rows with windspeed higher than 230\n",
    "# changing mph to mps\n",
    "#https://wmo.asu.edu/content/northern-hemisphere-highest-wind\n",
    "sns.boxplot(df, x = 'Wind_Speed')\n",
    "df = df[df['Wind_Speed']<231]\n",
    "df['Wind_Speed'] = df['Wind_Speed'] * 0.44704"
   ]
  },
  {
   "cell_type": "code",
   "execution_count": 181,
   "id": "22115456-890b-416a-8242-b6926170815a",
   "metadata": {},
   "outputs": [
    {
     "data": {
      "text/plain": [
       "<Axes: xlabel='Precipitation'>"
      ]
     },
     "execution_count": 181,
     "metadata": {},
     "output_type": "execute_result"
    },
    {
     "data": {
      "image/png": "[encoded data removed]",
      "text/plain": [
       "<Figure size 640x480 with 1 Axes>"
      ]
     },
     "metadata": {},
     "output_type": "display_data"
    }
   ],
   "source": [
    "sns.boxplot(df, x = 'Precipitation')"
   ]
  },
  {
   "cell_type": "code",
   "execution_count": 182,
   "id": "4e779a9d-1fc1-4698-8b4b-e50797f09ae6",
   "metadata": {},
   "outputs": [],
   "source": [
    "# going to make the decision to remove precipitation over 20in as they are really big outliers\n",
    "# also changing the unit from in to mm\n",
    "df = df[df['Precipitation'] < 20]\n",
    "df['Precipitation'] = df['Precipitation'] * 25.4\n",
    "\n"
   ]
  },
  {
   "cell_type": "code",
   "execution_count": 183,
   "id": "4696efe7-4386-4fae-b36d-2e79733edeca",
   "metadata": {},
   "outputs": [],
   "source": [
    "#too many weather conditions. narrow to these main types, Sunny, Cloudy, Rainy, Snowy, Thunder, storm, Tornados\n",
    "#https://www.twinkl.com.sg/teaching-wiki/different-types-of-weather-conditions#:~:text=Different%20types%20of%20weather%20conditions,-There%20are%20many&text=The%20five%20main%20types%20of,of%20the%20global%20weather%20system.\n",
    "pd.set_option('display.max_row', 200)\n",
    "df['Weather_Condition'].value_counts()\n",
    "df['Sunny'] = df['Weather_Condition'].str.contains('fair|clear', case = False)\n",
    "df['Rainy'] = df['Weather_Condition'].str.contains('rain|shower|drizzle|precipitation', case = False)\n",
    "df['Cloudy'] = df['Weather_Condition'].str.contains('Fog|Cloud|Haze|dust|Mist|overcast|smoke|ash', case = False)\n",
    "df['Snowy'] = df['Weather_Condition'].str.contains('snow|hail|sleet|ice|wintry', case = False)\n",
    "df['Thunder'] = df['Weather_Condition'].str.contains('thunder|T-Storm', case = False)\n",
    "df['Storm'] = df['Weather_Condition'].str.contains('storm|T-Storm|Squalls', case = False)\n",
    "df['Tornado'] = df['Weather_Condition'].str.contains('Tornado', case = False)\n",
    "\n"
   ]
  },
  {
   "cell_type": "code",
   "execution_count": 184,
   "id": "e5560b33-12e5-4a06-a326-2773f9a33871",
   "metadata": {},
   "outputs": [],
   "source": [
    "df.to_csv('US Accident(clean).csv')"
   ]
  },
  {
   "cell_type": "code",
   "execution_count": null,
   "id": "f48e706c-24b8-4c81-8d00-2208855927fc",
   "metadata": {},
   "outputs": [],
   "source": []
  }
 ],
 "metadata": {
  "kernelspec": {
   "display_name": "Python 3 (ipykernel)",
   "language": "python",
   "name": "python3"
  },
  "language_info": {
   "codemirror_mode": {
    "name": "ipython",
    "version": 3
   },
   "file_extension": ".py",
   "mimetype": "text/x-python",
   "name": "python",
   "nbconvert_exporter": "python",
   "pygments_lexer": "ipython3",
   "version": "3.11.4"
  }
 },
 "nbformat": 4,
 "nbformat_minor": 5
}
